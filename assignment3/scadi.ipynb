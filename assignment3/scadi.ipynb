{
 "cells": [
  {
   "cell_type": "markdown",
   "metadata": {},
   "source": [
    "# Unsupervised Learning - SCADI Dataset\n",
    "Apply clustering and dimension reduction algorithms"
   ]
  },
  {
   "cell_type": "markdown",
   "metadata": {},
   "source": [
    "## Import packages"
   ]
  },
  {
   "cell_type": "code",
   "execution_count": 1,
   "metadata": {},
   "outputs": [],
   "source": [
    "import pandas as pd\n",
    "import matplotlib.pyplot as plt\n",
    "import numpy as np\n",
    "from sklearn.model_selection import train_test_split\n",
    "from sklearn.base import BaseEstimator, TransformerMixin\n",
    "from sklearn.pipeline import Pipeline\n",
    "from sklearn.preprocessing import StandardScaler, OneHotEncoder\n",
    "from sklearn.metrics import (\n",
    "    accuracy_score, mean_squared_error, silhouette_score,\n",
    "    adjusted_rand_score, adjusted_mutual_info_score,\n",
    "    homogeneity_score, completeness_score, v_measure_score,\n",
    ")\n",
    "import time\n",
    "from sklearn.cluster import KMeans\n",
    "from sklearn.manifold import TSNE\n",
    "from sklearn.decomposition import PCA, FastICA\n",
    "import seaborn as sns\n",
    "from sklearn.mixture import GaussianMixture\n",
    "from sklearn.random_projection import GaussianRandomProjection\n",
    "from sklearn.discriminant_analysis import LinearDiscriminantAnalysis\n",
    "from keras.models import Sequential\n",
    "from keras.layers import AveragePooling2D, Conv2D, Dense, Flatten, Reshape\n",
    "from keras.utils import to_categorical\n",
    "import random\n",
    "from scipy import stats\n",
    "from statsmodels.stats.stattools import durbin_watson"
   ]
  },
  {
   "cell_type": "markdown",
   "metadata": {},
   "source": [
    "## Load data and normalize features"
   ]
  },
  {
   "cell_type": "code",
   "execution_count": 2,
   "metadata": {},
   "outputs": [
    {
     "data": {
      "text/plain": [
       "((70, 205), (70,))"
      ]
     },
     "execution_count": 2,
     "metadata": {},
     "output_type": "execute_result"
    }
   ],
   "source": [
    "data = pd.read_csv('data/scadi-dataset/scadi.csv')\n",
    "train_y = np.array(data['Classes'])\n",
    "std_scaler = StandardScaler()\n",
    "data = data.drop(columns=['Classes'])\n",
    "train_X = std_scaler.fit_transform(data.values)\n",
    "train_X.shape, train_y.shape"
   ]
  },
  {
   "cell_type": "markdown",
   "metadata": {},
   "source": [
    "## Part I: Run clustering algorithms"
   ]
  },
  {
   "cell_type": "code",
   "execution_count": 3,
   "metadata": {},
   "outputs": [],
   "source": [
    "clustering_algorithm = 'em'\n",
    "assert clustering_algorithm in {'k_means', 'em'}\n",
    "n_clusters = 6  # Set to an integer (discovered best n_clusters) or a list of integers (to discover best n_clusters)"
   ]
  },
  {
   "cell_type": "code",
   "execution_count": 4,
   "metadata": {},
   "outputs": [],
   "source": [
    "def constuct_clustering_model(clustering_algorithm, n_clusters):\n",
    "    if clustering_algorithm == 'k_means':\n",
    "        clustering_model = KMeans(random_state=0, n_clusters=n_clusters)\n",
    "    elif clustering_algorithm == 'em':\n",
    "        clustering_model = GaussianMixture(random_state=0, n_components=n_clusters)\n",
    "    return clustering_model\n",
    "\n",
    "def run_clustering_algorithm(clustering_algorithm, n_clusters, train_X):\n",
    "    if isinstance(n_clusters, int):\n",
    "        clustering_model = constuct_clustering_model(clustering_algorithm, n_clusters)\n",
    "        start_time = time.time()\n",
    "        clustering_model.fit(train_X)\n",
    "        end_time = time.time()\n",
    "        print('-----------------------------------------------------------------------')\n",
    "        print('Result for n_clusters: {}'.format(n_clusters))\n",
    "        print('Time elapsed (in seconds): {}'.format(end_time - start_time))\n",
    "        print('Silhouette score: {}'.format(silhouette_score(train_X, clustering_model.predict(train_X), metric='euclidean')))\n",
    "        if clustering_algorithm == 'k_means':\n",
    "            print('Sum of squared distances of samples to their closest cluster center: {}'\n",
    "                  .format(clustering_model.inertia_))\n",
    "        elif clustering_algorithm == 'em':\n",
    "            print('AIC: {0}, and BIC: {1}'.format(clustering_model.aic(train_X), clustering_model.bic(train_X)))\n",
    "    elif isinstance(n_clusters, list):\n",
    "        sses = []\n",
    "        aics = []\n",
    "        bics = []\n",
    "        silhouette_scores = []\n",
    "        for n in n_clusters:\n",
    "            clustering_model = constuct_clustering_model(clustering_algorithm, n)\n",
    "            start_time = time.time()\n",
    "            clustering_model.fit(train_X)\n",
    "            end_time = time.time()\n",
    "            print('-----------------------------------------------------------------------')\n",
    "            print('Result for n_clusters: {}'.format(n))\n",
    "            print('Time elapsed (in seconds): {}'.format(end_time - start_time))\n",
    "            silhouette = silhouette_score(train_X, clustering_model.predict(train_X), metric='euclidean')\n",
    "            print('Silhouette score: {}'.format(silhouette))\n",
    "            silhouette_scores.append(silhouette)\n",
    "            if clustering_algorithm == 'k_means':\n",
    "                print('Sum of squared distances of samples to their closest cluster center: {}'\n",
    "                      .format(clustering_model.inertia_))\n",
    "                sses.append(clustering_model.inertia_)\n",
    "            elif clustering_algorithm == 'em':\n",
    "                aic = clustering_model.aic(train_X)\n",
    "                bic = clustering_model.bic(train_X)\n",
    "                print('AIC: {0}, and BIC: {1}'.format(aic, bic))\n",
    "                aics.append(aic)\n",
    "                bics.append(bic)\n",
    "        plt.figure(random.randint(0, 10000))\n",
    "        plt.plot(n_clusters, silhouette_scores)\n",
    "        plt.title('Silhouette score v.s. k')\n",
    "        plt.xlabel('k')\n",
    "        plt.ylabel('Silhouette score')\n",
    "        plt.show()\n",
    "        if clustering_algorithm == 'k_means':\n",
    "            plt.figure(random.randint(0, 10000))\n",
    "            plt.plot(n_clusters, sses)\n",
    "            plt.title('Sum of squared distances of samples to their closest cluster center')\n",
    "            plt.xlabel('k')\n",
    "            plt.ylabel('Sum Squared Error')\n",
    "            plt.show()\n",
    "        elif clustering_algorithm == 'em':\n",
    "            plt.figure(random.randint(0, 10000))\n",
    "            plt.plot(n_clusters, aics, label='AIC')\n",
    "            plt.plot(n_clusters, bics, label='BIC')\n",
    "            plt.legend(loc='lower right')\n",
    "            plt.title('AIC or BIC v.s. k')\n",
    "            plt.xlabel('k')\n",
    "            plt.ylabel('AIC or BIC')\n",
    "            plt.show()\n",
    "    else:\n",
    "        raise ValueError('Invalid argument n_clusters: {}. Only int or list of int supported!'.format(n_clusters))\n",
    "    return clustering_model"
   ]
  },
  {
   "cell_type": "code",
   "execution_count": 5,
   "metadata": {},
   "outputs": [],
   "source": [
    "def eval_clustering_result(train_y, pred_y):\n",
    "    print('Adjusted rand score: {}'.format(adjusted_rand_score(train_y, pred_y)))\n",
    "    print('Adjusted mutual information score: {}'.format(adjusted_mutual_info_score(train_y, pred_y)))\n",
    "    print('Homogeneity score: {}'.format(homogeneity_score(train_y, pred_y)))\n",
    "    print('Completeness score: {}'.format(completeness_score(train_y, pred_y)))\n",
    "    print('V-measure score: {}'.format(v_measure_score(train_y, pred_y)))"
   ]
  },
  {
   "cell_type": "code",
   "execution_count": 6,
   "metadata": {},
   "outputs": [],
   "source": [
    "def viz(X, y):\n",
    "    # Visulize dimensionality reduction result against true or predicted labels in 2D\n",
    "    if X.shape[1] > 50:\n",
    "        X = PCA(n_components=50).fit_transform(X)\n",
    "    if X.shape[0] > 100:\n",
    "        X, y = sample_rows(X, y, 100)\n",
    "    embedded_X = TSNE(random_state=0, n_components=2).fit_transform(X)\n",
    "    df_tsne = pd.DataFrame(embedded_X, columns=['comp1', 'comp2'])\n",
    "    df_tsne['label'] = y\n",
    "    sns.lmplot(x='comp1', y='comp2', data=df_tsne, hue='label', fit_reg=False)"
   ]
  },
  {
   "cell_type": "code",
   "execution_count": 7,
   "metadata": {},
   "outputs": [
    {
     "name": "stdout",
     "output_type": "stream",
     "text": [
      "-----------------------------------------------------------------------\n",
      "Result for n_clusters: 6\n",
      "Time elapsed (in seconds): 0.03611326217651367\n",
      "Silhouette score: 0.19830428021455912\n",
      "AIC: 101050.64275343335, and BIC: 388689.3965925976\n",
      "Adjusted rand score: 0.5059723047212595\n",
      "Adjusted mutual information score: 0.5464495600695365\n",
      "Homogeneity score: 0.6217089056763576\n",
      "Completeness score: 0.5971298322213406\n",
      "V-measure score: 0.6091715384389044\n"
     ]
    },
    {
     "data": {
      "text/plain": [
       "(array([3, 3, 3, 3, 3, 2, 1, 0, 4, 2, 4, 5, 4, 5, 4, 1, 0, 3, 0, 4, 5, 2,\n",
       "        0, 3, 3, 4, 2, 3, 0, 3, 5, 2, 1, 3, 3, 3, 5, 4, 3, 3, 3, 0, 0, 5,\n",
       "        0, 4, 0, 0, 3, 0, 0, 4, 1, 3, 3, 0, 0, 3, 3, 3, 3, 4, 4, 0, 0, 0,\n",
       "        0, 3, 1, 3]),\n",
       " GaussianMixture(n_components=6, random_state=0))"
      ]
     },
     "execution_count": 7,
     "metadata": {},
     "output_type": "execute_result"
    },
    {
     "data": {
      "image/png": "[encoded data removed]",
      "text/plain": [
       "<Figure size 402.375x360 with 1 Axes>"
      ]
     },
     "metadata": {
      "needs_background": "light"
     },
     "output_type": "display_data"
    }
   ],
   "source": [
    "def clustering_all_in_one(clustering_algorithm, n_clusters, train_X, train_y, plot=True):\n",
    "    # Run clustering algorithm\n",
    "    clustering_model = run_clustering_algorithm(clustering_algorithm, n_clusters, train_X)\n",
    "    # Evaluate clustering result against true labels\n",
    "    pred_y = clustering_model.predict(train_X)\n",
    "    eval_clustering_result(train_y, pred_y)\n",
    "    # Visulize clustering result in 2D\n",
    "    if plot:\n",
    "        viz(train_X, pred_y)\n",
    "    return pred_y, clustering_model\n",
    "\n",
    "clustering_all_in_one(clustering_algorithm, n_clusters, train_X, train_y)"
   ]
  },
  {
   "cell_type": "markdown",
   "metadata": {},
   "source": [
    "## Part II: Apply dimensionality reduction algorithms"
   ]
  },
  {
   "cell_type": "code",
   "execution_count": 8,
   "metadata": {},
   "outputs": [],
   "source": [
    "dr_algorithm = 'lda'\n",
    "assert dr_algorithm in {'pca', 'ica', 'random_projection', 'lda'}\n",
    "n_components = 6  # For random_projection, set to 'auto'"
   ]
  },
  {
   "cell_type": "code",
   "execution_count": 9,
   "metadata": {},
   "outputs": [],
   "source": [
    "def construct_dr_model(dr_algorithm, n_components):\n",
    "    if dr_algorithm == 'pca':\n",
    "        dr_model = PCA(random_state=0, n_components=n_components)\n",
    "    elif dr_algorithm == 'ica':\n",
    "        dr_model = FastICA(random_state=0, n_components=n_components)\n",
    "    elif dr_algorithm == 'random_projection':\n",
    "        dr_model = GaussianRandomProjection(random_state=0, n_components=n_components, eps=0.5)\n",
    "    elif dr_algorithm == 'lda':\n",
    "        dr_model = LinearDiscriminantAnalysis(n_components=n_components)\n",
    "    return dr_model"
   ]
  },
  {
   "cell_type": "code",
   "execution_count": 10,
   "metadata": {},
   "outputs": [
    {
     "data": {
      "image/png": "[encoded data removed]",
      "text/plain": [
       "<Figure size 427.375x360 with 1 Axes>"
      ]
     },
     "metadata": {
      "needs_background": "light"
     },
     "output_type": "display_data"
    }
   ],
   "source": [
    "def dr_all_in_one(dr_algorithm, n_components, train_X, train_y):\n",
    "    # Apply dimensionality reduction algorithm\n",
    "    dr_model = construct_dr_model(dr_algorithm, n_components)\n",
    "    reduced_X = dr_model.fit_transform(train_X, train_y)\n",
    "    # Evaluate MSE between original data and reconstructed data (if possible)\n",
    "    if dr_algorithm == 'pca' or dr_algorithm == 'ica':\n",
    "        reconstructed_X = dr_model.inverse_transform(reduced_X)\n",
    "        print('MSE between original data and reconstructed data: {}'\n",
    "              .format(mean_squared_error(train_X, reconstructed_X)))\n",
    "    return reduced_X, dr_model\n",
    "\n",
    "if n_components is None:\n",
    "    if dr_algorithm == 'pca':\n",
    "        _, dr_model = dr_all_in_one(dr_algorithm, n_components, train_X, train_y)\n",
    "        # Determine n_components that could keep 95% of the variance\n",
    "        cumsum = np.cumsum(dr_model.explained_variance_ratio_)\n",
    "        min_n_components = np.argmax(cumsum >= 0.95) + 1\n",
    "        print('To keep 95% of the variance, reduced dimension needs to be no smaller than {}'\n",
    "              .format(min_n_components))\n",
    "    elif dr_algorithm == 'ica':\n",
    "        ns = list(range(2, 71))\n",
    "        avg_kurtosis = []\n",
    "        min_kurtosis = []\n",
    "        max_kurtosis = []\n",
    "        avg_dw = []\n",
    "        min_dw = []\n",
    "        max_dw = []\n",
    "        for n in ns:\n",
    "            reduced_X, _ = dr_all_in_one(dr_algorithm, n, train_X, train_y)\n",
    "            kurts = np.absolute(stats.kurtosis(reduced_X, fisher=True))\n",
    "            avg_kurtosis.append(np.mean(kurts))\n",
    "            min_kurtosis.append(np.min(kurts))\n",
    "            max_kurtosis.append(np.max(kurts))\n",
    "            dws = durbin_watson(reduced_X)\n",
    "            avg_dw.append(np.mean(dws))\n",
    "            min_dw.append(np.min(dws))\n",
    "            max_dw.append(np.max(dws))\n",
    "        plt.figure(random.randint(0, 10000))\n",
    "        plt.plot(ns, avg_kurtosis, label='Avg Kurtosis')\n",
    "        plt.plot(ns, min_kurtosis, label='Min Kurtosis')\n",
    "        plt.plot(ns, max_kurtosis, label='Max Kurtosis')\n",
    "        plt.xlabel('n_components')\n",
    "        plt.ylabel('Kurtosis')\n",
    "        plt.title('Kurtosis v.s. n_components')\n",
    "        plt.legend(loc='upper left')\n",
    "        plt.show()\n",
    "        plt.figure(random.randint(0, 10000))\n",
    "        plt.plot(ns, avg_dw, label='Avg Durbin-Watson')\n",
    "        # plt.plot(ns, min_dw, label='Min Durbin-Watson')\n",
    "        plt.plot(ns, max_dw, label='Max Durbin-Watson')\n",
    "        plt.xlabel('n_components')\n",
    "        plt.ylabel('Durbin-Watson')\n",
    "        plt.title('Durbin-Watson v.s. n_components')\n",
    "        plt.legend(loc='upper right')\n",
    "        plt.show()\n",
    "    elif dr_algorithm == 'lda':\n",
    "        ns = list(range(2, 7))\n",
    "        explained_variance_ratios = []\n",
    "        for n in ns:\n",
    "            _, dr_model = dr_all_in_one(dr_algorithm, n, train_X, train_y)\n",
    "            explained_variance_ratios.append(np.sum(dr_model.explained_variance_ratio_))\n",
    "        plt.figure(random.randint(0, 10000))\n",
    "        plt.plot(ns, explained_variance_ratios)\n",
    "        plt.xlabel('n_components')\n",
    "        plt.ylabel('Explained variance ratio')\n",
    "        plt.title('Explained variance ratio v.s. n_components')\n",
    "        plt.show()\n",
    "else:\n",
    "    reduced_X, dr_model = dr_all_in_one(dr_algorithm, n_components, train_X, train_y)\n",
    "    if dr_algorithm == 'random_projection':\n",
    "        print('To keep the distortion within eps = 0.5, reduced dimension needs to be no smaller than {}'\n",
    "              .format(dr_model.n_components_))\n",
    "    viz(reduced_X, train_y)"
   ]
  },
  {
   "cell_type": "markdown",
   "metadata": {},
   "source": [
    "## Part III: Run clustering algorithm after dimensionality reduction"
   ]
  },
  {
   "cell_type": "code",
   "execution_count": 11,
   "metadata": {},
   "outputs": [],
   "source": [
    "# Dimensionality reduction settings\n",
    "dr_algorithm = 'lda'\n",
    "assert dr_algorithm in {'pca', 'ica', 'random_projection', 'lda'}\n",
    "n_components = 6\n",
    "\n",
    "# Clustering settings\n",
    "clustering_algorithm = 'em'\n",
    "assert clustering_algorithm in {'k_means', 'em'}\n",
    "n_clusters = 5  # Set to an integer (discovered best n_clusters) or a list (to discover best n_clusters)"
   ]
  },
  {
   "cell_type": "code",
   "execution_count": 12,
   "metadata": {},
   "outputs": [
    {
     "name": "stdout",
     "output_type": "stream",
     "text": [
      "-----------------------------------------------------------------------\n",
      "Result for n_clusters: 5\n",
      "Time elapsed (in seconds): 0.005947113037109375\n",
      "Silhouette score: 0.7922623267671484\n",
      "AIC: 589.0396401886333, and BIC: 870.563525200819\n",
      "Adjusted rand score: 0.905983684247559\n",
      "Adjusted mutual information score: 0.9221254350183374\n",
      "Homogeneity score: 0.8743617288106499\n",
      "Completeness score: 1.0\n",
      "V-measure score: 0.9329701042983457\n",
      "Adjusted rand score: 0.09946714031971583\n",
      "Adjusted mutual information score: 0.152882579928295\n",
      "Homogeneity score: 0.3129646336796807\n",
      "Completeness score: 0.5913378741765681\n",
      "V-measure score: 0.4093051596446746\n"
     ]
    }
   ],
   "source": [
    "if dr_algorithm == 'lda':\n",
    "    lda_train_X, lda_test_X, lda_train_y, lda_test_y = train_test_split(\n",
    "        train_X, train_y, test_size=0.2, random_state=0)\n",
    "    lda_reduced_train_X, dr_model = dr_all_in_one(dr_algorithm, n_components, lda_train_X, lda_train_y)\n",
    "    lda_reduced_test_X = dr_model.transform(lda_test_X)\n",
    "    _, clustering_model = clustering_all_in_one(\n",
    "        clustering_algorithm, n_clusters, lda_reduced_train_X, lda_train_y, plot=False)\n",
    "    pred_y = clustering_model.predict(lda_reduced_test_X)\n",
    "    eval_clustering_result(lda_test_y, pred_y)\n",
    "else:\n",
    "    reduced_X, _ = dr_all_in_one(dr_algorithm, n_components, train_X, train_y)\n",
    "    clustering_all_in_one(clustering_algorithm, n_clusters, reduced_X, train_y)"
   ]
  }
 ],
 "metadata": {
  "kernelspec": {
   "display_name": "Python 3",
   "language": "python",
   "name": "python3"
  },
  "language_info": {
   "codemirror_mode": {
    "name": "ipython",
    "version": 3
   },
   "file_extension": ".py",
   "mimetype": "text/x-python",
   "name": "python",
   "nbconvert_exporter": "python",
   "pygments_lexer": "ipython3",
   "version": "3.8.5"
  }
 },
 "nbformat": 4,
 "nbformat_minor": 4
}
