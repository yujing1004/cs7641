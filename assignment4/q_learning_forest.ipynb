{
 "cells": [
  {
   "cell_type": "markdown",
   "metadata": {},
   "source": [
    "# Q Learning\n",
    "Reference: https://github.com/dennybritz/reinforcement-learning/blob/master/TD/Q-Learning%20Solution.ipynb"
   ]
  },
  {
   "cell_type": "code",
   "execution_count": 1,
   "metadata": {},
   "outputs": [],
   "source": [
    "%matplotlib inline\n",
    "\n",
    "import gym\n",
    "import itertools\n",
    "import matplotlib\n",
    "import numpy as np\n",
    "import sys\n",
    "import time\n",
    "\n",
    "from collections import defaultdict\n",
    "from forest import ForestEnv\n",
    "import plotting\n",
    "import matplotlib.pyplot as plt\n",
    "\n",
    "matplotlib.style.use('ggplot')"
   ]
  },
  {
   "cell_type": "code",
   "execution_count": 2,
   "metadata": {},
   "outputs": [],
   "source": [
    "num_states = 16\n",
    "env = ForestEnv(num_states=num_states)"
   ]
  },
  {
   "cell_type": "code",
   "execution_count": 3,
   "metadata": {},
   "outputs": [],
   "source": [
    "def reconstruct_q_values(Q):\n",
    "    q_values = np.zeros((env.observation_space.n, env.action_space.n))\n",
    "    for k, v in Q.items():\n",
    "        q_values[k] = v\n",
    "    return q_values"
   ]
  },
  {
   "cell_type": "code",
   "execution_count": 4,
   "metadata": {},
   "outputs": [],
   "source": [
    "def make_epsilon_greedy_policy(Q, epsilon, nA):\n",
    "    \"\"\"\n",
    "    Creates an epsilon-greedy policy based on a given Q-function and epsilon.\n",
    "    \n",
    "    Args:\n",
    "        Q: A dictionary that maps from state -> action-values.\n",
    "            Each value is a numpy array of length nA (see below)\n",
    "        epsilon: The probability to select a random action. Float between 0 and 1.\n",
    "        nA: Number of actions in the environment.\n",
    "    \n",
    "    Returns:\n",
    "        A function that takes the observation as an argument and returns\n",
    "        the probabilities for each action in the form of a numpy array of length nA.\n",
    "    \n",
    "    \"\"\"\n",
    "    def policy_fn(observation):\n",
    "        A = np.ones(nA, dtype=float) * epsilon / nA\n",
    "        best_action = np.argmax(Q[observation])\n",
    "        A[best_action] += (1.0 - epsilon)\n",
    "        return A\n",
    "    return policy_fn"
   ]
  },
  {
   "cell_type": "code",
   "execution_count": 5,
   "metadata": {},
   "outputs": [],
   "source": [
    "def q_learning(env, num_episodes, discount_factor=0.9, alpha=0.1, epsilon=0.1):\n",
    "    \"\"\"\n",
    "    Q-Learning algorithm: Off-policy TD control. Finds the optimal greedy policy\n",
    "    while following an epsilon-greedy policy\n",
    "    \n",
    "    Args:\n",
    "        env: OpenAI environment.\n",
    "        num_episodes: Number of episodes to run for.\n",
    "        discount_factor: Gamma discount factor.\n",
    "        alpha: TD learning rate.\n",
    "        epsilon: Chance to sample a random action. Float between 0 and 1.\n",
    "    \n",
    "    Returns:\n",
    "        A tuple (Q, episode_lengths).\n",
    "        Q is the optimal action-value function, a dictionary mapping state -> action values.\n",
    "        stats is an EpisodeStats object with two numpy arrays for episode_lengths and episode_rewards.\n",
    "    \"\"\"\n",
    "    \n",
    "    # The final action-value function.\n",
    "    # A nested dictionary that maps state -> (action -> action-value).\n",
    "    Q = defaultdict(lambda: np.zeros(env.action_space.n))\n",
    "\n",
    "    # Keeps track of useful statistics\n",
    "    stats = plotting.EpisodeStats(\n",
    "        episode_lengths=np.zeros(num_episodes),\n",
    "        episode_rewards=np.zeros(num_episodes))    \n",
    "    \n",
    "    # The policy we're following\n",
    "    policy = make_epsilon_greedy_policy(Q, epsilon, env.action_space.n)\n",
    "    \n",
    "    sum_state_values = []\n",
    "    for i_episode in range(num_episodes):\n",
    "        # Print out which episode we're on, useful for debugging.\n",
    "        if (i_episode + 1) % 10 == 0:\n",
    "            print(\"\\rEpisode {}/{}.\".format(i_episode + 1, num_episodes), end=\"\")\n",
    "            sys.stdout.flush()\n",
    "        \n",
    "        # Reset the environment and pick the first action\n",
    "        state = env.reset()\n",
    "        \n",
    "        # One step in the environment\n",
    "        # total_reward = 0.0\n",
    "        for t in itertools.count():\n",
    "            \n",
    "            # Take a step\n",
    "            action_probs = policy(state)\n",
    "            action = np.random.choice(np.arange(len(action_probs)), p=action_probs)\n",
    "            next_state, reward, done, _ = env.step(action)\n",
    "\n",
    "            # Update statistics\n",
    "            stats.episode_rewards[i_episode] += reward\n",
    "            stats.episode_lengths[i_episode] = t\n",
    "            \n",
    "            # TD Update\n",
    "            best_next_action = np.argmax(Q[next_state])    \n",
    "            td_target = reward + discount_factor * Q[next_state][best_next_action]\n",
    "            td_delta = td_target - Q[state][action]\n",
    "            Q[state][action] += alpha * td_delta\n",
    "                \n",
    "            # Consistent with https://github.com/sawcordwell/pymdptoolbox/blob/master/src/mdptoolbox/mdp.py#L1062\n",
    "            if done or t >= 100:\n",
    "                break\n",
    "                \n",
    "            state = next_state\n",
    "            \n",
    "        sum_state_values.append(np.sum(np.max(reconstruct_q_values(Q), axis=1)))\n",
    "    \n",
    "    return Q, stats, sum_state_values"
   ]
  },
  {
   "cell_type": "code",
   "execution_count": 6,
   "metadata": {},
   "outputs": [
    {
     "name": "stdout",
     "output_type": "stream",
     "text": [
      "Episode 2000/2000.Time elapsed: 12.742433071136475 seconds\n"
     ]
    }
   ],
   "source": [
    "start_time = time.time()\n",
    "Q, _, sum_state_values = q_learning(env, 2000)\n",
    "end_time = time.time()\n",
    "print('Time elapsed: {} seconds'.format(end_time - start_time))"
   ]
  },
  {
   "cell_type": "code",
   "execution_count": 7,
   "metadata": {},
   "outputs": [
    {
     "data": {
      "text/plain": [
       "Text(0, 0.5, 'Sum state values')"
      ]
     },
     "execution_count": 7,
     "metadata": {},
     "output_type": "execute_result"
    },
    {
     "data": {
      "image/png": "[encoded data removed]",
      "text/plain": [
       "<Figure size 432x288 with 1 Axes>"
      ]
     },
     "metadata": {},
     "output_type": "display_data"
    }
   ],
   "source": [
    "plt.plot(sum_state_values)\n",
    "plt.title('Sum state values v.s. episode')\n",
    "plt.xlabel('Episode')\n",
    "plt.ylabel('Sum state values')"
   ]
  },
  {
   "cell_type": "code",
   "execution_count": 8,
   "metadata": {},
   "outputs": [
    {
     "name": "stdout",
     "output_type": "stream",
     "text": [
      "Q (state-action) values:\n",
      "[[ 4.44374205  3.94834054]\n",
      " [ 4.47415803  4.9729053 ]\n",
      " [ 4.53039703  4.97488636]\n",
      " [ 3.43541746  5.04035312]\n",
      " [ 1.62123196  5.05735342]\n",
      " [ 3.70472803  2.62851739]\n",
      " [ 4.05239617  2.87551635]\n",
      " [ 4.50464472  3.9033439 ]\n",
      " [ 4.57350773  5.05081617]\n",
      " [ 7.62817085  2.62923919]\n",
      " [ 9.8412747   4.1172824 ]\n",
      " [11.2759943   3.62205802]\n",
      " [12.4757812   4.11133639]\n",
      " [16.94969813  5.05773004]\n",
      " [21.09265898  4.44290904]\n",
      " [23.80374984  6.03679879]]\n",
      "Policy (for each state):\n",
      "[0 1 1 1 1 0 0 0 1 0 0 0 0 0 0 0]\n",
      "Value Function:\n",
      "[ 4.44374205  4.9729053   4.97488636  5.04035312  5.05735342  3.70472803\n",
      "  4.05239617  4.50464472  5.05081617  7.62817085  9.8412747  11.2759943\n",
      " 12.4757812  16.94969813 21.09265898 23.80374984]\n"
     ]
    }
   ],
   "source": [
    "q_values = reconstruct_q_values(Q)\n",
    "\n",
    "print(\"Q (state-action) values:\")\n",
    "print(q_values)\n",
    "\n",
    "print(\"Policy (for each state):\")\n",
    "print(np.argmax(q_values, axis=1))\n",
    "\n",
    "print(\"Value Function:\")\n",
    "print(np.max(q_values, axis=1))"
   ]
  }
 ],
 "metadata": {
  "kernelspec": {
   "display_name": "Python 3",
   "language": "python",
   "name": "python3"
  },
  "language_info": {
   "codemirror_mode": {
    "name": "ipython",
    "version": 3
   },
   "file_extension": ".py",
   "mimetype": "text/x-python",
   "name": "python",
   "nbconvert_exporter": "python",
   "pygments_lexer": "ipython3",
   "version": "3.8.5"
  }
 },
 "nbformat": 4,
 "nbformat_minor": 1
}
