{
 "cells": [
  {
   "cell_type": "markdown",
   "metadata": {},
   "source": [
    "# Neural Network Weight Optimization - Emotion Detection\n",
    "Replay the same problem from assignment 1 with neural network weight optimization by randomized optimization\n",
    "\n",
    "Reference: https://mlrose.readthedocs.io/en/stable/source/tutorial3.html"
   ]
  },
  {
   "cell_type": "markdown",
   "metadata": {},
   "source": [
    "## Import packages"
   ]
  },
  {
   "cell_type": "code",
   "execution_count": 1,
   "metadata": {},
   "outputs": [],
   "source": [
    "import pandas as pd\n",
    "import matplotlib.pyplot as plt\n",
    "import numpy as np\n",
    "from sklearn.model_selection import train_test_split\n",
    "from sklearn.base import BaseEstimator, TransformerMixin\n",
    "from sklearn.pipeline import Pipeline\n",
    "from sklearn.preprocessing import StandardScaler, OneHotEncoder\n",
    "from sklearn.metrics import accuracy_score\n",
    "import six\n",
    "import sys\n",
    "sys.modules['sklearn.externals.six'] = six\n",
    "import mlrose\n",
    "import time"
   ]
  },
  {
   "cell_type": "markdown",
   "metadata": {},
   "source": [
    "## Load data"
   ]
  },
  {
   "cell_type": "code",
   "execution_count": 2,
   "metadata": {},
   "outputs": [],
   "source": [
    "data = pd.read_csv('data/emotion-detection/icml_face_data.csv/icml_face_data.csv')\n",
    "data = data.rename(columns={' Usage': 'Usage', ' pixels': 'pixels'})  # Somehow column names conatin a leading space"
   ]
  },
  {
   "cell_type": "markdown",
   "metadata": {},
   "source": [
    "## Set aside a test set and sample train set"
   ]
  },
  {
   "cell_type": "code",
   "execution_count": 3,
   "metadata": {},
   "outputs": [
    {
     "name": "stdout",
     "output_type": "stream",
     "text": [
      "28709 train istances + 3589 test instances\n"
     ]
    }
   ],
   "source": [
    "# Set aside a test set\n",
    "train_set = data[data['Usage']=='Training']\n",
    "test_set = data[data['Usage']=='PrivateTest']\n",
    "print(len(train_set), 'train istances +', len(test_set), 'test instances')"
   ]
  },
  {
   "cell_type": "markdown",
   "metadata": {},
   "source": [
    "## Prepare the data for model training"
   ]
  },
  {
   "cell_type": "code",
   "execution_count": 4,
   "metadata": {},
   "outputs": [],
   "source": [
    "class DataFrameSelector(BaseEstimator, TransformerMixin):\n",
    "    def __init__(self, attribute_name):\n",
    "        self.attribute_name = attribute_name\n",
    "    def fit(self, X, y=None):\n",
    "        return self\n",
    "    def transform(self, X):\n",
    "        return X[self.attribute_name].str.strip('\"').str.split(pat=' ', expand=True).values\n",
    "\n",
    "pipeline = Pipeline([\n",
    "    ('selector', DataFrameSelector('pixels')),\n",
    "    ('std_scaler', StandardScaler()),\n",
    "])\n",
    "\n",
    "train_X = pipeline.fit_transform(train_set)\n",
    "train_y = np.array(train_set['emotion'])\n",
    "\n",
    "# One hot encode labels\n",
    "one_hot = OneHotEncoder()\n",
    "one_hot_train_y = one_hot.fit_transform(train_y.reshape(-1, 1)).todense()"
   ]
  },
  {
   "cell_type": "markdown",
   "metadata": {},
   "source": [
    "## Optimize Neural Network weights by randomized optimization"
   ]
  },
  {
   "cell_type": "code",
   "execution_count": 5,
   "metadata": {},
   "outputs": [],
   "source": [
    "# Construct neural network model and specify optimizer\n",
    "algorithm = 'random_hill_climb'  # CHNAGE ALGORITHM HERE\n",
    "algorithm_specific_parameters = {\n",
    "    'gradient_descent': {\n",
    "        'max_iters': 100,\n",
    "        'max_attempts': 10,\n",
    "    },\n",
    "    'random_hill_climb': {\n",
    "        'max_iters': 1000,\n",
    "        'max_attempts': 100,\n",
    "        'restarts': 5,\n",
    "    },\n",
    "    'simulated_annealing': {\n",
    "        'max_iters': 1000,\n",
    "        'max_attempts': 100,\n",
    "        'schedule': mlrose.ExpDecay(),\n",
    "    },\n",
    "    'genetic_alg': {\n",
    "        'max_iters': 1000,\n",
    "        'max_attempts': 10,\n",
    "        'pop_size': 200,\n",
    "        'mutation_prob': 0.4,\n",
    "    },\n",
    "}\n",
    "nn = mlrose.NeuralNetwork(\n",
    "    # Common parameters\n",
    "    algorithm=algorithm,\n",
    "    hidden_nodes=[512],  # Besides hidden nodes, num of input nodes = 2304 and num of output nodes = 7\n",
    "    activation='relu',\n",
    "    bias=True,\n",
    "    is_classifier=True,\n",
    "    learning_rate=0.0001,\n",
    "    early_stopping=True,\n",
    "    clip_max=5,\n",
    "    random_state=0,\n",
    "    curve=True,\n",
    "    # Parameters specific to algorithm\n",
    "    **algorithm_specific_parameters[algorithm]\n",
    ")"
   ]
  },
  {
   "cell_type": "code",
   "execution_count": null,
   "metadata": {},
   "outputs": [],
   "source": [
    "# Fit to learn weights\n",
    "start_time = time.time()\n",
    "nn.fit(train_X, one_hot_train_y)\n",
    "end_time = time.time()\n",
    "print('Time elapsed (in seconds): {}'.format(end_time - start_time))\n",
    "print('Minimized log loss (negative of fitness): {}'.format(np.min(-nn.fitness_curve)))"
   ]
  },
  {
   "cell_type": "code",
   "execution_count": null,
   "metadata": {},
   "outputs": [],
   "source": [
    "# Predict and evaluate on train set\n",
    "pred_y = nn.predict(train_X)\n",
    "print('Train accuracy: {}'.format(accuracy_score(one_hot_train_y, pred_y)))"
   ]
  },
  {
   "cell_type": "code",
   "execution_count": null,
   "metadata": {},
   "outputs": [],
   "source": [
    "# Plot fitness curve\n",
    "def plot_fitness_curve(fitness_curve):\n",
    "    iters = list(range(1, len(fitness_curve) + 1))\n",
    "    plt.plot(iters, fitness_curve)\n",
    "    plt.title('Log loss (negative of fitness) v.s. Iteration')\n",
    "    plt.xlabel('Iteration')\n",
    "    plt.ylabel('Log loss (negative of fitness)')\n",
    "    plt.show()\n",
    "    \n",
    "plot_fitness_curve(-nn.fitness_curve)  # Note: mlrose derives fitness by flipping the sign of log loss"
   ]
  },
  {
   "cell_type": "markdown",
   "metadata": {},
   "source": [
    "## Evaluate the model on the test set"
   ]
  },
  {
   "cell_type": "code",
   "execution_count": null,
   "metadata": {},
   "outputs": [],
   "source": [
    "# Predict and evaluate on test set\n",
    "test_X = pipeline.transform(test_set)\n",
    "test_y = np.array(test_set['emotion'])\n",
    "one_hot_test_y = one_hot.transform(test_y.reshape(-1, 1)).todense()\n",
    "pred_y = nn.predict(test_X)\n",
    "print('Test accuracy: {}'.format(accuracy_score(one_hot_test_y, pred_y)))"
   ]
  }
 ],
 "metadata": {
  "kernelspec": {
   "display_name": "Python 3",
   "language": "python",
   "name": "python3"
  },
  "language_info": {
   "codemirror_mode": {
    "name": "ipython",
    "version": 3
   },
   "file_extension": ".py",
   "mimetype": "text/x-python",
   "name": "python",
   "nbconvert_exporter": "python",
   "pygments_lexer": "ipython3",
   "version": "3.8.5"
  }
 },
 "nbformat": 4,
 "nbformat_minor": 4
}
