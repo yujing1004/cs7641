{
 "cells": [
  {
   "cell_type": "markdown",
   "metadata": {},
   "source": [
    "# Neural Network Weight Optimization - Emotion Detection\n",
    "Replay the same problem from assignment 1 with neural network weight optimization by randomized optimization\n",
    "\n",
    "Reference: https://mlrose.readthedocs.io/en/stable/source/tutorial3.html"
   ]
  },
  {
   "cell_type": "markdown",
   "metadata": {},
   "source": [
    "## Import packages"
   ]
  },
  {
   "cell_type": "code",
   "execution_count": 1,
   "metadata": {},
   "outputs": [],
   "source": [
    "import pandas as pd\n",
    "import matplotlib.pyplot as plt\n",
    "import numpy as np\n",
    "from sklearn.model_selection import train_test_split\n",
    "from sklearn.base import BaseEstimator, TransformerMixin\n",
    "from sklearn.pipeline import Pipeline\n",
    "from sklearn.preprocessing import StandardScaler, OneHotEncoder\n",
    "from sklearn.metrics import accuracy_score\n",
    "import six\n",
    "import sys\n",
    "sys.modules['sklearn.externals.six'] = six\n",
    "import mlrose\n",
    "import time"
   ]
  },
  {
   "cell_type": "markdown",
   "metadata": {},
   "source": [
    "## Load data"
   ]
  },
  {
   "cell_type": "code",
   "execution_count": 2,
   "metadata": {},
   "outputs": [],
   "source": [
    "data = pd.read_csv('data/emotion-detection/icml_face_data.csv/icml_face_data.csv')\n",
    "data = data.rename(columns={' Usage': 'Usage', ' pixels': 'pixels'})  # Somehow column names conatin a leading space"
   ]
  },
  {
   "cell_type": "markdown",
   "metadata": {},
   "source": [
    "## Set aside a test set and sample train set"
   ]
  },
  {
   "cell_type": "code",
   "execution_count": 3,
   "metadata": {},
   "outputs": [
    {
     "name": "stdout",
     "output_type": "stream",
     "text": [
      "28709 total train istances + 3589 test instances\n",
      "1435 sampled train istances for training (to save training time)\n"
     ]
    }
   ],
   "source": [
    "# Set aside a test set\n",
    "full_train_set = data[data['Usage']=='Training']\n",
    "test_set = data[data['Usage']=='PrivateTest']\n",
    "print(len(full_train_set), 'total train istances +', len(test_set), 'test instances')\n",
    "# To reduce training time, further sample train set in a stratified way\n",
    "train_set, _ = train_test_split(full_train_set, test_size=0.95, random_state=0, stratify=full_train_set['emotion'])\n",
    "print(len(train_set), 'sampled train istances for training (to save training time)')"
   ]
  },
  {
   "cell_type": "markdown",
   "metadata": {},
   "source": [
    "## Prepare the data for model training"
   ]
  },
  {
   "cell_type": "code",
   "execution_count": 4,
   "metadata": {},
   "outputs": [],
   "source": [
    "class DataFrameSelector(BaseEstimator, TransformerMixin):\n",
    "    def __init__(self, attribute_name):\n",
    "        self.attribute_name = attribute_name\n",
    "    def fit(self, X, y=None):\n",
    "        return self\n",
    "    def transform(self, X):\n",
    "        return X[self.attribute_name].str.strip('\"').str.split(pat=' ', expand=True).values\n",
    "\n",
    "pipeline = Pipeline([\n",
    "    ('selector', DataFrameSelector('pixels')),\n",
    "    ('std_scaler', StandardScaler()),\n",
    "])\n",
    "\n",
    "train_X = pipeline.fit_transform(train_set)\n",
    "train_y = np.array(train_set['emotion'])\n",
    "\n",
    "# One hot encode labels\n",
    "one_hot = OneHotEncoder()\n",
    "one_hot_train_y = one_hot.fit_transform(train_y.reshape(-1, 1)).todense()"
   ]
  },
  {
   "cell_type": "markdown",
   "metadata": {},
   "source": [
    "## Optimize Neural Network weights by randomized optimization"
   ]
  },
  {
   "cell_type": "code",
   "execution_count": 5,
   "metadata": {},
   "outputs": [],
   "source": [
    "# Construct neural network model and specify optimizer\n",
    "algorithm = 'gradient_descent'  # CHNAGE ALGORITHM HERE\n",
    "algorithm_specific_parameters = {\n",
    "    'gradient_descent': {\n",
    "        'max_iters': 100,\n",
    "        'max_attempts': 10,\n",
    "    },\n",
    "    'random_hill_climb': {\n",
    "        'max_iters': 1000,\n",
    "        'max_attempts': 100,\n",
    "        'restarts': 5,\n",
    "    },\n",
    "    'simulated_annealing': {\n",
    "        'max_iters': 10000,\n",
    "        'max_attempts': 100,\n",
    "        'schedule': mlrose.ExpDecay(),\n",
    "    },\n",
    "    'genetic_alg': {\n",
    "        'max_iters': 100,\n",
    "        'max_attempts': 10,\n",
    "        'pop_size': 200,\n",
    "        'mutation_prob': 0.4,\n",
    "    },\n",
    "}\n",
    "nn = mlrose.NeuralNetwork(\n",
    "    # Common parameters\n",
    "    algorithm=algorithm,\n",
    "    hidden_nodes=[512],  # Besides hidden nodes, num of input nodes = 2304 and num of output nodes = 7\n",
    "    activation='relu',\n",
    "    bias=True,\n",
    "    is_classifier=True,\n",
    "    learning_rate=0.0001,\n",
    "    early_stopping=True,\n",
    "    clip_max=5,\n",
    "    random_state=0,\n",
    "    curve=True,\n",
    "    # Parameters specific to algorithm\n",
    "    **algorithm_specific_parameters[algorithm]\n",
    ")"
   ]
  },
  {
   "cell_type": "code",
   "execution_count": 6,
   "metadata": {},
   "outputs": [
    {
     "name": "stdout",
     "output_type": "stream",
     "text": [
      "Time elapsed (in seconds): 31.177410125732422\n",
      "Minimized log loss (negative of fitness): 7.350652169090731\n"
     ]
    }
   ],
   "source": [
    "# Fit to learn weights\n",
    "start_time = time.time()\n",
    "nn.fit(train_X, one_hot_train_y)\n",
    "end_time = time.time()\n",
    "print('Time elapsed (in seconds): {}'.format(end_time - start_time))\n",
    "print('Minimized log loss (negative of fitness): {}'.format(np.min(-nn.fitness_curve)))"
   ]
  },
  {
   "cell_type": "code",
   "execution_count": 7,
   "metadata": {},
   "outputs": [
    {
     "name": "stdout",
     "output_type": "stream",
     "text": [
      "Train accuracy: 0.7407665505226481\n"
     ]
    }
   ],
   "source": [
    "# Predict and evaluate on train set\n",
    "pred_y = nn.predict(train_X)\n",
    "print('Train accuracy: {}'.format(accuracy_score(one_hot_train_y, pred_y)))"
   ]
  },
  {
   "cell_type": "code",
   "execution_count": 8,
   "metadata": {},
   "outputs": [
    {
     "data": {
      "image/png": "[encoded data removed]",
      "text/plain": [
       "<Figure size 432x288 with 1 Axes>"
      ]
     },
     "metadata": {
      "needs_background": "light"
     },
     "output_type": "display_data"
    }
   ],
   "source": [
    "# Plot fitness curve\n",
    "def plot_fitness_curve(fitness_curve):\n",
    "    iters = list(range(1, len(fitness_curve) + 1))\n",
    "    plt.plot(iters, fitness_curve)\n",
    "    plt.title('Log loss (negative of fitness) v.s. Iteration')\n",
    "    plt.xlabel('Iteration')\n",
    "    plt.ylabel('Log loss (negative of fitness)')\n",
    "    plt.show()\n",
    "    \n",
    "plot_fitness_curve(-nn.fitness_curve)  # Note: mlrose derives fitness by flipping the sign of log loss"
   ]
  },
  {
   "cell_type": "markdown",
   "metadata": {},
   "source": [
    "## Evaluate the model on the test set"
   ]
  },
  {
   "cell_type": "code",
   "execution_count": 9,
   "metadata": {},
   "outputs": [
    {
     "name": "stdout",
     "output_type": "stream",
     "text": [
      "Test accuracy: 0.2750069657286152\n"
     ]
    }
   ],
   "source": [
    "# Predict and evaluate on test set\n",
    "test_X = pipeline.transform(test_set)\n",
    "test_y = np.array(test_set['emotion'])\n",
    "one_hot_test_y = one_hot.transform(test_y.reshape(-1, 1)).todense()\n",
    "pred_y = nn.predict(test_X)\n",
    "print('Test accuracy: {}'.format(accuracy_score(one_hot_test_y, pred_y)))"
   ]
  },
  {
   "cell_type": "markdown",
   "metadata": {},
   "source": [
    "## Plot train/test accuracy v.s. log loss (negative of fitness)"
   ]
  },
  {
   "cell_type": "code",
   "execution_count": 10,
   "metadata": {},
   "outputs": [
    {
     "data": {
      "text/plain": [
       "<matplotlib.legend.Legend at 0x137bcbdf0>"
      ]
     },
     "execution_count": 10,
     "metadata": {},
     "output_type": "execute_result"
    },
    {
     "data": {
      "image/png": "[encoded data removed]",
      "text/plain": [
       "<Figure size 432x288 with 1 Axes>"
      ]
     },
     "metadata": {
      "needs_background": "light"
     },
     "output_type": "display_data"
    }
   ],
   "source": [
    "labels = ['Gradient Descent', 'Random Hill Climbing', 'Simulated Annealing', 'Genetic Algorithm']\n",
    "log_losses = [5.9288, 27.2341, 28.6343, 26.2833]\n",
    "train_accuracies = [0.8070, 0.1923, 0.1624, 0.2383]\n",
    "test_accuracies = [0.2784, 0.1814, 0.1610, 0.2279]\n",
    "\n",
    "plt.plot(log_losses, train_accuracies, label='train accuracy', marker='o', linestyle = 'None')\n",
    "plt.plot(log_losses, test_accuracies, label='test accuracy', marker='o', linestyle = 'None')\n",
    "plt.title('Accuracy v.s. log loss (negative of fitness)')\n",
    "plt.xlabel('Log loss (negative of fitness)')\n",
    "plt.ylabel('Accuracy')\n",
    "plt.legend(loc='upper right')"
   ]
  }
 ],
 "metadata": {
  "kernelspec": {
   "display_name": "Python 3",
   "language": "python",
   "name": "python3"
  },
  "language_info": {
   "codemirror_mode": {
    "name": "ipython",
    "version": 3
   },
   "file_extension": ".py",
   "mimetype": "text/x-python",
   "name": "python",
   "nbconvert_exporter": "python",
   "pygments_lexer": "ipython3",
   "version": "3.8.5"
  }
 },
 "nbformat": 4,
 "nbformat_minor": 4
}
