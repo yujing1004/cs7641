{
 "cells": [
  {
   "cell_type": "markdown",
   "metadata": {},
   "source": [
    "# Neural Network Weight Optimization - Digit Recognition (MNIST)\n",
    "\n",
    "Reference: https://mlrose.readthedocs.io/en/stable/source/tutorial3.html"
   ]
  },
  {
   "cell_type": "markdown",
   "metadata": {},
   "source": [
    "## Import packages"
   ]
  },
  {
   "cell_type": "code",
   "execution_count": 1,
   "metadata": {},
   "outputs": [],
   "source": [
    "import numpy as np\n",
    "import matplotlib.pyplot as plt\n",
    "import tensorflow as tf\n",
    "from sklearn.preprocessing import OneHotEncoder\n",
    "from sklearn.metrics import accuracy_score\n",
    "import six\n",
    "import sys\n",
    "sys.modules['sklearn.externals.six'] = six\n",
    "import mlrose\n",
    "import time"
   ]
  },
  {
   "cell_type": "markdown",
   "metadata": {},
   "source": [
    "## Load data (train and test)"
   ]
  },
  {
   "cell_type": "code",
   "execution_count": 2,
   "metadata": {},
   "outputs": [
    {
     "name": "stdout",
     "output_type": "stream",
     "text": [
      "(60000, 784)\n",
      "(60000,)\n",
      "(10000, 784)\n",
      "(10000,)\n"
     ]
    }
   ],
   "source": [
    "(train_X, train_y), (test_X, test_y) = tf.keras.datasets.mnist.load_data()\n",
    "# Convert the samples from integers to floating-point numbers\n",
    "train_X, test_X = train_X / 255.0, test_X / 255.0\n",
    "train_X = train_X.reshape(60000, 784)\n",
    "test_X = test_X.reshape(10000, 784)\n",
    "print(train_X.shape)\n",
    "print(train_y.shape)\n",
    "print(test_X.shape)\n",
    "print(test_y.shape)"
   ]
  },
  {
   "cell_type": "markdown",
   "metadata": {},
   "source": [
    "## Prepare the data for model training"
   ]
  },
  {
   "cell_type": "code",
   "execution_count": 3,
   "metadata": {},
   "outputs": [],
   "source": [
    "# One hot encode labels\n",
    "one_hot = OneHotEncoder()\n",
    "one_hot_train_y = one_hot.fit_transform(train_y.reshape(-1, 1)).todense()"
   ]
  },
  {
   "cell_type": "markdown",
   "metadata": {},
   "source": [
    "## Optimize Neural Network weights by randomized optimization"
   ]
  },
  {
   "cell_type": "code",
   "execution_count": 4,
   "metadata": {},
   "outputs": [],
   "source": [
    "# Construct neural network model and specify optimizer\n",
    "algorithm = 'genetic_alg'  # CHNAGE ALGORITHM HERE\n",
    "algorithm_specific_parameters = {\n",
    "    'gradient_descent': {\n",
    "        'max_iters': 100,\n",
    "        'max_attempts': 10,\n",
    "    },\n",
    "    'random_hill_climb': {\n",
    "        'max_iters': 1000,\n",
    "        'max_attempts': 100,\n",
    "        'restarts': 5,\n",
    "    },\n",
    "    'simulated_annealing': {\n",
    "        'max_iters': 1000,\n",
    "        'max_attempts': 100,\n",
    "        'schedule': mlrose.ExpDecay(),\n",
    "    },\n",
    "    'genetic_alg': {\n",
    "        'max_iters': 100,\n",
    "        'max_attempts': 10,\n",
    "        'pop_size': 200,\n",
    "        'mutation_prob': 0.4,\n",
    "    },\n",
    "}\n",
    "nn = mlrose.NeuralNetwork(\n",
    "    # Common parameters\n",
    "    algorithm=algorithm,\n",
    "    hidden_nodes=[128],  # Besides hidden nodes, num of input nodes = 784 and num of output nodes = 10\n",
    "    activation='relu',\n",
    "    bias=True,\n",
    "    is_classifier=True,\n",
    "    learning_rate=0.0001,\n",
    "    early_stopping=True,\n",
    "    clip_max=5,\n",
    "    random_state=0,\n",
    "    curve=True,\n",
    "    # Parameters specific to algorithm\n",
    "    **algorithm_specific_parameters[algorithm]\n",
    ")"
   ]
  },
  {
   "cell_type": "code",
   "execution_count": 5,
   "metadata": {},
   "outputs": [
    {
     "name": "stdout",
     "output_type": "stream",
     "text": [
      "Time elapsed (in seconds): 7020.74126791954\n",
      "Minimized log loss (negative of fitness): 26.72021463341105\n"
     ]
    }
   ],
   "source": [
    "# Fit to learn weights\n",
    "start_time = time.time()\n",
    "nn.fit(train_X, one_hot_train_y)\n",
    "end_time = time.time()\n",
    "print('Time elapsed (in seconds): {}'.format(end_time - start_time))\n",
    "print('Minimized log loss (negative of fitness): {}'.format(np.min(-nn.fitness_curve)))"
   ]
  },
  {
   "cell_type": "code",
   "execution_count": 6,
   "metadata": {},
   "outputs": [
    {
     "name": "stdout",
     "output_type": "stream",
     "text": [
      "Train accuracy: 0.21603333333333333\n"
     ]
    }
   ],
   "source": [
    "# Predict and evaluate on train set\n",
    "pred_y = nn.predict(train_X)\n",
    "print('Train accuracy: {}'.format(accuracy_score(one_hot_train_y, pred_y)))"
   ]
  },
  {
   "cell_type": "code",
   "execution_count": 7,
   "metadata": {},
   "outputs": [
    {
     "data": {
      "image/png": "[encoded data removed]",
      "text/plain": [
       "<Figure size 432x288 with 1 Axes>"
      ]
     },
     "metadata": {
      "needs_background": "light"
     },
     "output_type": "display_data"
    }
   ],
   "source": [
    "# Plot fitness curve\n",
    "def plot_fitness_curve(fitness_curve):\n",
    "    iters = list(range(1, len(fitness_curve) + 1))\n",
    "    plt.plot(iters, fitness_curve)\n",
    "    plt.title('Log loss (negative of fitness) v.s. Iteration')\n",
    "    plt.xlabel('Iteration')\n",
    "    plt.ylabel('Log loss (negative of fitness)')\n",
    "    plt.show()\n",
    "    \n",
    "plot_fitness_curve(-nn.fitness_curve)  # Note: mlrose derives fitness by flipping the sign of log loss"
   ]
  },
  {
   "cell_type": "markdown",
   "metadata": {},
   "source": [
    "## Evaluate the model on the test set"
   ]
  },
  {
   "cell_type": "code",
   "execution_count": 8,
   "metadata": {},
   "outputs": [
    {
     "name": "stdout",
     "output_type": "stream",
     "text": [
      "Test accuracy: 0.2111\n"
     ]
    }
   ],
   "source": [
    "# Predict and evaluate on test set\n",
    "one_hot_test_y = one_hot.transform(test_y.reshape(-1, 1)).todense()\n",
    "pred_y = nn.predict(test_X)\n",
    "print('Test accuracy: {}'.format(accuracy_score(one_hot_test_y, pred_y)))"
   ]
  }
 ],
 "metadata": {
  "kernelspec": {
   "display_name": "Python 3",
   "language": "python",
   "name": "python3"
  },
  "language_info": {
   "codemirror_mode": {
    "name": "ipython",
    "version": 3
   },
   "file_extension": ".py",
   "mimetype": "text/x-python",
   "name": "python",
   "nbconvert_exporter": "python",
   "pygments_lexer": "ipython3",
   "version": "3.8.5"
  }
 },
 "nbformat": 4,
 "nbformat_minor": 4
}
